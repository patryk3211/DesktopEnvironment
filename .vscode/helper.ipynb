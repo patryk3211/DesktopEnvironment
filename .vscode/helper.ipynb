{
 "cells": [
  {
   "cell_type": "code",
   "execution_count": 2,
   "metadata": {},
   "outputs": [
    {
     "name": "stdout",
     "output_type": "stream",
     "text": [
      "m-92 -77\n",
      "q92 -77 184 0\n",
      "m92 -77\n",
      "q-184 -154 -368 0\n",
      "m-92 -77\n",
      "q276 -231 552 0\n"
     ]
    }
   ],
   "source": [
    "import math\n",
    "\n",
    "angle = 50\n",
    "\n",
    "def getPoint(distance):\n",
    "    return round(math.sin(math.pi / 180 * angle) * distance), round(math.cos(math.pi / 180 * angle) * distance)\n",
    "\n",
    "def distance(p1, p2):\n",
    "    return abs(p2[0] - p1[0]), abs(p2[1] - p1[1])\n",
    "\n",
    "bar1 = getPoint(120)\n",
    "bar2 = getPoint(240)\n",
    "bar3 = getPoint(360)\n",
    "\n",
    "b2d = distance(bar2, bar1)\n",
    "b3d = distance(bar3, bar2)\n",
    "\n",
    "print(\"m-{} -{}\".format(bar1[0], bar1[1]))\n",
    "print(\"q{} -{} {} 0\".format(bar1[0], bar1[1], bar1[0] * 2))\n",
    "print(\"m{} -{}\".format(b2d[0], b2d[1]))\n",
    "print(\"q-{} -{} -{} 0\".format(bar2[0], bar2[1], bar2[0] * 2))\n",
    "print(\"m-{} -{}\".format(b3d[0], b3d[1]))\n",
    "print(\"q{} -{} {} 0\".format(bar3[0], bar3[1], bar3[0] * 2))\n"
   ]
  }
 ],
 "metadata": {
  "kernelspec": {
   "display_name": "Python 3.10.7 64-bit",
   "language": "python",
   "name": "python3"
  },
  "language_info": {
   "codemirror_mode": {
    "name": "ipython",
    "version": 3
   },
   "file_extension": ".py",
   "mimetype": "text/x-python",
   "name": "python",
   "nbconvert_exporter": "python",
   "pygments_lexer": "ipython3",
   "version": "3.10.7"
  },
  "orig_nbformat": 4,
  "vscode": {
   "interpreter": {
    "hash": "e7370f93d1d0cde622a1f8e1c04877d8463912d04d973331ad4851f04de6915a"
   }
  }
 },
 "nbformat": 4,
 "nbformat_minor": 2
}
